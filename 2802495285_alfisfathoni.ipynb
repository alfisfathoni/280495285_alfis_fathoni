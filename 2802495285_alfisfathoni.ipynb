{
  "nbformat": 4,
  "nbformat_minor": 0,
  "metadata": {
    "colab": {
      "provenance": [],
      "authorship_tag": "ABX9TyMhkC8uL61adi0YvEgpr3xS",
      "include_colab_link": true
    },
    "kernelspec": {
      "name": "python3",
      "display_name": "Python 3"
    },
    "language_info": {
      "name": "python"
    }
  },
  "cells": [
    {
      "cell_type": "markdown",
      "metadata": {
        "id": "view-in-github",
        "colab_type": "text"
      },
      "source": [
        "<a href=\"https://colab.research.google.com/github/alfisfathoni/280495285_alfis_fathoni/blob/main/2802495285_alfisfathoni.ipynb\" target=\"_parent\"><img src=\"https://colab.research.google.com/assets/colab-badge.svg\" alt=\"Open In Colab\"/></a>"
      ]
    },
    {
      "cell_type": "code",
      "execution_count": null,
      "metadata": {
        "colab": {
          "base_uri": "https://localhost:8080/"
        },
        "id": "k-go6puVHXHj",
        "outputId": "0e1889fc-b237-419c-862e-9bbb1d9c848e"
      },
      "outputs": [
        {
          "output_type": "stream",
          "name": "stdout",
          "text": [
            "Thu Feb  6 02:51:28 2025\n"
          ]
        }
      ],
      "source": [
        "import time\n",
        "print(time.ctime())\n",
        "import numpy as np"
      ]
    },
    {
      "cell_type": "code",
      "source": [
        "x = 1\n",
        "x"
      ],
      "metadata": {
        "id": "Mvkgrr0GJEeN",
        "outputId": "35d3ac6b-e167-4e95-c349-d1acb2d4504d",
        "colab": {
          "base_uri": "https://localhost:8080/"
        }
      },
      "execution_count": null,
      "outputs": [
        {
          "output_type": "execute_result",
          "data": {
            "text/plain": [
              "1"
            ]
          },
          "metadata": {},
          "execution_count": 2
        }
      ]
    },
    {
      "cell_type": "code",
      "source": [
        "x = x + 1\n",
        "x"
      ],
      "metadata": {
        "id": "-RDCYaUJJPRN",
        "outputId": "38937fe2-8cd5-4aa4-89db-d1981df7dedd",
        "colab": {
          "base_uri": "https://localhost:8080/"
        }
      },
      "execution_count": null,
      "outputs": [
        {
          "output_type": "execute_result",
          "data": {
            "text/plain": [
              "2"
            ]
          },
          "metadata": {},
          "execution_count": 3
        }
      ]
    },
    {
      "cell_type": "code",
      "source": [
        "import numpy as cihuy"
      ],
      "metadata": {
        "id": "KGvNDV1XJzs9"
      },
      "execution_count": null,
      "outputs": []
    },
    {
      "cell_type": "code",
      "source": [
        "x = np.array([1,4,3])\n",
        "x"
      ],
      "metadata": {
        "colab": {
          "base_uri": "https://localhost:8080/"
        },
        "id": "yn3cf-HFL8pZ",
        "outputId": "bbf3b8b1-352a-4dfc-fd8d-45e2804da3d5"
      },
      "execution_count": null,
      "outputs": [
        {
          "output_type": "execute_result",
          "data": {
            "text/plain": [
              "array([1, 4, 3])"
            ]
          },
          "metadata": {},
          "execution_count": 7
        }
      ]
    },
    {
      "cell_type": "code",
      "source": [
        "x = cihuy.array([[1,4,3],[9,2,7],[1,2,3]])\n",
        "x"
      ],
      "metadata": {
        "colab": {
          "base_uri": "https://localhost:8080/"
        },
        "id": "PBqWdXlRMJr5",
        "outputId": "98931483-ab3c-4ec8-fc12-4d4662a8cb1a"
      },
      "execution_count": null,
      "outputs": [
        {
          "output_type": "execute_result",
          "data": {
            "text/plain": [
              "array([[1, 4, 3],\n",
              "       [9, 2, 7],\n",
              "       [1, 2, 3]])"
            ]
          },
          "metadata": {},
          "execution_count": 16
        }
      ]
    },
    {
      "cell_type": "code",
      "source": [
        "def my_adder(a,b,c):\n",
        "  out = a + b / c\n",
        "\n",
        "  return out"
      ],
      "metadata": {
        "id": "m6l1b4gJMTZU"
      },
      "execution_count": null,
      "outputs": []
    },
    {
      "cell_type": "code",
      "source": [
        "my_adder(1,2,3)"
      ],
      "metadata": {
        "id": "YztEqjp_OlC9",
        "colab": {
          "base_uri": "https://localhost:8080/"
        },
        "outputId": "cf387838-23e8-44ce-ec01-351b203eea1c"
      },
      "execution_count": null,
      "outputs": [
        {
          "output_type": "execute_result",
          "data": {
            "text/plain": [
              "1.6666666666666665"
            ]
          },
          "metadata": {},
          "execution_count": 22
        }
      ]
    },
    {
      "cell_type": "code",
      "source": [
        "def my_thermo_stat(temp,desired_temp):\n",
        "  if temp < desired_temp - 5:\n",
        "     status = 'Heat'\n",
        "  elif temp > desired_temp + 5:\n",
        "    status = 'AC'\n",
        "  else:\n",
        "    status = 'off'\n",
        "  return status"
      ],
      "metadata": {
        "id": "b86WKhsOQcDR"
      },
      "execution_count": null,
      "outputs": []
    },
    {
      "cell_type": "code",
      "source": [
        "status = my_thermo_stat(65,63)\n",
        "print(status)"
      ],
      "metadata": {
        "colab": {
          "base_uri": "https://localhost:8080/"
        },
        "id": "VOvaNHHeQ8sy",
        "outputId": "a06f55c3-596e-49cf-e3f2-837f4112118f"
      },
      "execution_count": null,
      "outputs": [
        {
          "output_type": "stream",
          "name": "stdout",
          "text": [
            "off\n"
          ]
        }
      ]
    },
    {
      "cell_type": "code",
      "source": [
        "def login():\n",
        "    username = input(\"Masukkan username anda: \")\n",
        "    password = input(\"Masukkan password anda: \")\n",
        "\n",
        "    correct_password = \"Bn123\"\n",
        "\n",
        "    if password == correct_password:\n",
        "        print(f\"Login Berhasil, Selamat datang {username}\")\n",
        "        calculate_grades(username)\n",
        "    else:\n",
        "        print(\"Incorrect Password\")\n",
        "        login()\n",
        "\n",
        "def calculate_grades(username):\n",
        "    uas = int(input(\"Masukkan Nilai UAS: \"))\n",
        "    uts = int(input(\"Masukkan Nilai UTS: \"))\n",
        "    asg = int(input(\"Masukkan Nilai Assignment: \"))\n",
        "\n",
        "    final_score = (0.5 * uas) + (0.3 * uts) + (0.2 * asg)\n",
        "\n",
        "    if 90 <= final_score <= 100:\n",
        "        grade = \"A\"\n",
        "    elif 85 <= final_score < 90:\n",
        "        grade = \"A-\"\n",
        "    elif 80 <= final_score < 85:\n",
        "        grade = \"B+\"\n",
        "    elif 75 <= final_score < 80:\n",
        "        grade = \"B\"\n",
        "    elif 70 <= final_score < 75:\n",
        "        grade = \"B-\"\n",
        "    elif 65 <= final_score < 70:\n",
        "        grade = \"C\"\n",
        "    elif 50 <= final_score < 65:\n",
        "        grade = \"D\"\n",
        "    else:\n",
        "        grade = \"E\"\n",
        "\n",
        "    print(\"===================================\")\n",
        "    print(f\"Hasil perolehan nilai {username}\")\n",
        "    print(f\"Final Score: {final_score:.1f}\")\n",
        "    print(f\"Grade {grade}\")\n",
        "    print(\"===================================\")\n",
        "\n",
        "\n",
        "login()"
      ],
      "metadata": {
        "colab": {
          "base_uri": "https://localhost:8080/"
        },
        "id": "6zDx8qckKC2c",
        "outputId": "1013d638-5ff2-4f24-f73d-27a9a888a6fd"
      },
      "execution_count": 1,
      "outputs": [
        {
          "output_type": "stream",
          "name": "stdout",
          "text": [
            "Masukkan username anda: alfis\n",
            "Masukkan password anda: Bn123\n",
            "Login Berhasil, Selamat datang alfis\n",
            "Masukkan Nilai UAS: 98\n",
            "Masukkan Nilai UTS: 97\n",
            "Masukkan Nilai Assignment: 90\n",
            "===================================\n",
            "Hasil perolehan nilai alfis\n",
            "Final Score: 96.1\n",
            "Grade A\n",
            "===================================\n"
          ]
        }
      ]
    }
  ]
}