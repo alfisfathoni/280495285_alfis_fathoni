{
  "nbformat": 4,
  "nbformat_minor": 0,
  "metadata": {
    "colab": {
      "provenance": [],
      "authorship_tag": "ABX9TyPm5VWZZQrxgrcQGgUp53Ty",
      "include_colab_link": true
    },
    "kernelspec": {
      "name": "python3",
      "display_name": "Python 3"
    },
    "language_info": {
      "name": "python"
    }
  },
  "cells": [
    {
      "cell_type": "markdown",
      "metadata": {
        "id": "view-in-github",
        "colab_type": "text"
      },
      "source": [
        "<a href=\"https://colab.research.google.com/github/alfisfathoni/280495285_alfis_fathoni/blob/main/AlfisF.ipynb\" target=\"_parent\"><img src=\"https://colab.research.google.com/assets/colab-badge.svg\" alt=\"Open In Colab\"/></a>"
      ]
    },
    {
      "cell_type": "code",
      "execution_count": 1,
      "metadata": {
        "colab": {
          "base_uri": "https://localhost:8080/"
        },
        "id": "_mllxCyPaFQU",
        "outputId": "cfe9e3ef-6531-497b-c7c6-271f64c309e7"
      },
      "outputs": [
        {
          "output_type": "execute_result",
          "data": {
            "text/plain": [
              "array([0.65, 4.15, 3.75])"
            ]
          },
          "metadata": {},
          "execution_count": 1
        }
      ],
      "source": [
        "import numpy as np\n",
        "#1\n",
        "A = np.array([[2, 3, -1],\n",
        "              [1, -1, 2],\n",
        "              [3, 2, 1]])\n",
        "\n",
        "b = np.array([10, 4, 14])\n",
        "\n",
        "x_numpy = np.linalg.solve(A, b)\n",
        "x_numpy\n"
      ]
    },
    {
      "cell_type": "markdown",
      "source": [],
      "metadata": {
        "id": "P2n5T6qlcyUe"
      }
    },
    {
      "cell_type": "markdown",
      "source": [
        "Hasil dari metode Gauss-Seidel menghasilkan angka yang sangat besar, menunjukkan bahwa metode ini tidak konvergen untuk sistem persamaan ini dengan nilai awal yang diberikan. Ini kemungkinan terjadi karena matriks\n",
        "𝐴\n",
        "A tidak memiliki sifat yang menjamin konvergensi metode Gauss-Seidel (misalnya, tidak bersifat dominan diagonal)."
      ],
      "metadata": {
        "id": "bWCHu08Ec6dt"
      }
    },
    {
      "cell_type": "code",
      "source": [
        "# Metode Gauss-Seidel\n",
        "def gauss_seidel(A, b, x_init, tol=1e-3, max_iter=100):\n",
        "    n = len(b)\n",
        "    x = x_init.copy()\n",
        "    for _ in range(max_iter):\n",
        "        x_new = x.copy()\n",
        "        for i in range(n):\n",
        "            sum_ax = sum(A[i, j] * x_new[j] for j in range(n) if j != i)\n",
        "            x_new[i] = (b[i] - sum_ax) / A[i, i]\n",
        "\n",
        "        if np.linalg.norm(x_new - x, ord=np.inf) < tol:\n",
        "            return x_new\n",
        "        x = x_new\n",
        "    return x\n",
        "\n",
        "x_init = np.array([5.0, 5.0, 5.0])\n",
        "\n",
        "x_gauss_seidel = gauss_seidel(A, b, x_init)\n",
        "\n",
        "x_gauss_seidel\n"
      ],
      "metadata": {
        "colab": {
          "base_uri": "https://localhost:8080/"
        },
        "id": "E-SBK0o-atyp",
        "outputId": "6758dcef-7ceb-4be6-d378-9f0703dd59b9"
      },
      "execution_count": 2,
      "outputs": [
        {
          "output_type": "execute_result",
          "data": {
            "text/plain": [
              "array([-8.85379963e+93, -2.65613989e+94,  7.96841967e+94])"
            ]
          },
          "metadata": {},
          "execution_count": 2
        }
      ]
    },
    {
      "cell_type": "code",
      "source": [
        "#2\n",
        "import numpy as np\n",
        "\n",
        "def gauss_seidel(A, b, x_init, tol=1e-3, max_iter=100):\n",
        "    n = len(b)\n",
        "    x = x_init.copy()\n",
        "    for _ in range(max_iter):\n",
        "        x_new = x.copy()\n",
        "        for i in range(n):\n",
        "            sum_ax = sum(A[i, j] * x_new[j] for j in range(n) if j != i)\n",
        "            x_new[i] = (b[i] - sum_ax) / A[i, i]\n",
        "\n",
        "        if np.linalg.norm(x_new - x, ord=np.inf) < tol:\n",
        "            return x_new\n",
        "        x = x_new\n",
        "    return x\n",
        "\n",
        "A = np.array([[3, -0.1, -0.2],\n",
        "              [0.1, 7, -0.3],\n",
        "              [0.3, -0.2, 10]])\n",
        "\n",
        "b = np.array([7.85, -19.3, 71.4])\n",
        "\n",
        "x_init = np.array([1.0, 2.0, 3.0])\n",
        "\n",
        "# Menjalankan metode Gauss-Seidel\n",
        "x_gauss_seidel = gauss_seidel(A, b, x_init)\n",
        "print(\"Hasil menggunakan Gauss-Seidel:\")\n",
        "for i, val in enumerate(x_gauss_seidel):\n",
        "    print(f\"x[{i}] = {val:.6f}\")\n",
        "\n",
        "# Menyelesaikan menggunakan NumPy\n",
        "x_numpy = np.linalg.solve(A, b)\n",
        "print(\"\\nHasil menggunakan NumPy:\")\n",
        "for i, val in enumerate(x_numpy):\n",
        "    print(f\"x[{i}] = {val:.6f}\")\n"
      ],
      "metadata": {
        "colab": {
          "base_uri": "https://localhost:8080/"
        },
        "id": "GBSzyeZ5bGVR",
        "outputId": "8c2232d2-08f0-4e84-f241-f9ee75801b9d"
      },
      "execution_count": 3,
      "outputs": [
        {
          "output_type": "stream",
          "name": "stdout",
          "text": [
            "Hasil menggunakan Gauss-Seidel:\n",
            "x[0] = 3.000000\n",
            "x[1] = -2.500000\n",
            "x[2] = 7.000000\n",
            "\n",
            "Hasil menggunakan NumPy:\n",
            "x[0] = 3.000000\n",
            "x[1] = -2.500000\n",
            "x[2] = 7.000000\n"
          ]
        }
      ]
    },
    {
      "cell_type": "code",
      "source": [
        "#3\n",
        "import numpy as np\n",
        "import matplotlib.pyplot as plt\n",
        "\n",
        "X = np.array([5, 4, 6, 7, 5])\n",
        "Y = np.array([10, 8, 12, 14, 10])\n",
        "\n",
        "n = len(X)\n",
        "x_mean = np.mean(X)\n",
        "y_mean = np.mean(Y)\n",
        "\n",
        "a = sum((X - x_mean) * (Y - y_mean)) / sum((X - x_mean) ** 2)\n",
        "b = y_mean - a * x_mean\n",
        "\n",
        "plt.scatter(X, Y, color='blue', label='Data Points')\n",
        "x_reg = np.linspace(min(X), max(X), 100)\n",
        "y_reg = a * x_reg + b\n",
        "plt.plot(x_reg, y_reg, color='red', label=f'Regression Line: y={a:.2f}x+{b:.2f}')\n",
        "\n",
        "plt.xlabel('X')\n",
        "plt.ylabel('Y')\n",
        "plt.legend()\n",
        "plt.title('Least Squares Regression')\n",
        "plt.grid(True)\n",
        "plt.show()\n",
        "\n",
        "print(f\"Nilai a (slope): {a:.6f}\")\n",
        "print(f\"Nilai b (intercept): {b:.6f}\")\n"
      ],
      "metadata": {
        "colab": {
          "base_uri": "https://localhost:8080/",
          "height": 507
        },
        "id": "ek34Y4NGchcy",
        "outputId": "37f3821e-f487-4fd6-c204-3c35abbaa446"
      },
      "execution_count": 4,
      "outputs": [
        {
          "output_type": "display_data",
          "data": {
            "text/plain": [
              "<Figure size 640x480 with 1 Axes>"
            ],
            "image/png": "[encoded data removed]"
          },
          "metadata": {}
        },
        {
          "output_type": "stream",
          "name": "stdout",
          "text": [
            "Nilai a (slope): 2.000000\n",
            "Nilai b (intercept): 0.000000\n"
          ]
        }
      ]
    }
  ]
}